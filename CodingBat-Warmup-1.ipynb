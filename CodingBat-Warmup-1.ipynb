{
 "cells": [
  {
   "cell_type": "markdown",
   "metadata": {},
   "source": [
    "# This is CodingBat Warmup-1 solution. This is simple warmup problems to get started, no loops."
   ]
  },
  {
   "cell_type": "markdown",
   "metadata": {},
   "source": [
    "Q1: Sleep_in\n",
    "\n",
    "The parameter weekday is True if it is a weekday, and the parameter vacation is True if we are on vacation. We sleep in if it is not a weekday or we're on vacation. Return True if we sleep in.\n",
    "\n",
    "sleep_in(False, False) → True\n",
    "\n",
    "sleep_in(True, False) → False\n",
    "\n",
    "sleep_in(False, True) → True"
   ]
  },
  {
   "cell_type": "code",
   "execution_count": 1,
   "metadata": {},
   "outputs": [],
   "source": [
    "# Sleep_in\n",
    "# Solution one\n",
    "\n",
    "def sleep_in(weekday, vacation):\n",
    "    return (not weekday) or vacation"
   ]
  },
  {
   "cell_type": "code",
   "execution_count": 2,
   "metadata": {},
   "outputs": [],
   "source": [
    "# Sleep_in\n",
    "# Solution two\n",
    "\n",
    "def sleep_in(weekday, vacation):\n",
    "    if not weekday or vacation:\n",
    "        return True\n",
    "    else:\n",
    "        return False"
   ]
  },
  {
   "cell_type": "markdown",
   "metadata": {},
   "source": [
    "Q2: Monkey_trouble\n",
    "\n",
    "We have two monkeys, a and b, and the parameters a_smile and b_smile indicate if each is smiling. We are in trouble if they are both smiling or if neither of them is smiling. Return True if we are in trouble.\n",
    "\n",
    "monkey_trouble(True, True) → True\n",
    "\n",
    "monkey_trouble(False, False) → True\n",
    "\n",
    "monkey_trouble(True, False) → False"
   ]
  },
  {
   "cell_type": "code",
   "execution_count": 3,
   "metadata": {},
   "outputs": [],
   "source": [
    "# Monkey_trouble\n",
    "# Solution one\n",
    "\n",
    "def monkey_trouble(a_smile, b_smile):\n",
    "    return (a_smile and b_smile) or (not a_smile and not b_smile)\n"
   ]
  },
  {
   "cell_type": "code",
   "execution_count": 4,
   "metadata": {},
   "outputs": [],
   "source": [
    "# Monkey_trouble\n",
    "# Solution two\n",
    "\n",
    "def monkey_trouble(a_smile, b_smile):\n",
    "    if a_smile and b_smile:\n",
    "        return True\n",
    "    if not a_smile and not b_smile:\n",
    "        return True\n",
    "    return False"
   ]
  },
  {
   "cell_type": "markdown",
   "metadata": {},
   "source": [
    "Q3: Sum_double\n",
    "    \n",
    "Given two int values, return their sum. Unless the two values are the same, then return double their sum.\n",
    "\n",
    "sum_double(1, 2) → 3\n",
    "\n",
    "sum_double(3, 2) → 5\n",
    "\n",
    "sum_double(2, 2) → 8"
   ]
  },
  {
   "cell_type": "code",
   "execution_count": 5,
   "metadata": {},
   "outputs": [],
   "source": [
    "# Sum_double\n",
    "\n",
    "def sum_double(a, b):\n",
    "    if a != b:\n",
    "        return a+b\n",
    "    else:\n",
    "        return (a+b)*2"
   ]
  },
  {
   "cell_type": "markdown",
   "metadata": {},
   "source": [
    "Q4: Diff21\n",
    "    \n",
    "Given an int n, return the absolute difference between n and 21, except return double the absolute difference if n is over 21.\n",
    "\n",
    "diff21(19) → 2\n",
    "\n",
    "diff21(10) → 11\n",
    "\n",
    "diff21(21) → 0"
   ]
  },
  {
   "cell_type": "code",
   "execution_count": 6,
   "metadata": {},
   "outputs": [],
   "source": [
    "# Diff21\n",
    "\n",
    "def diff21(n):\n",
    "    if n<=21:\n",
    "        return abs(n-21)\n",
    "    else:\n",
    "        return 2*abs(n-21)"
   ]
  },
  {
   "cell_type": "markdown",
   "metadata": {},
   "source": [
    "Q5: Parrot_trouble\n",
    "    \n",
    "We have a loud talking parrot. The \"hour\" parameter is the current hour time in the range 0..23. We are in trouble if the parrot is talking and the hour is before 7 or after 20. Return True if we are in trouble.\n",
    "\n",
    "parrot_trouble(True, 6) → True\n",
    "\n",
    "parrot_trouble(True, 7) → False\n",
    "\n",
    "parrot_trouble(False, 6) → False"
   ]
  },
  {
   "cell_type": "code",
   "execution_count": 7,
   "metadata": {},
   "outputs": [],
   "source": [
    "# parrot_trouble\n",
    "\n",
    "def parrot_trouble(talking, hour):\n",
    "    return talking and (hour<7 or hour>20)"
   ]
  },
  {
   "cell_type": "markdown",
   "metadata": {},
   "source": [
    "Q6: Makes10\n",
    "\n",
    "Given 2 ints, a and b, return True if one if them is 10 or if their sum is 10.\n",
    "\n",
    "makes10(9, 10) → True\n",
    "\n",
    "makes10(9, 9) → False\n",
    "\n",
    "makes10(1, 9) → True"
   ]
  },
  {
   "cell_type": "code",
   "execution_count": 8,
   "metadata": {},
   "outputs": [],
   "source": [
    "# makes10\n",
    "\n",
    "def makes10(a, b):\n",
    "    return (a==10 or b==10) or ((a+b) == 10)\n"
   ]
  },
  {
   "cell_type": "markdown",
   "metadata": {},
   "source": [
    "Q7: Near_hundred\n",
    "    \n",
    "Given an int n, return True if it is within 10 of 100 or 200. Note: abs(num) computes the absolute value of a number.\n",
    "\n",
    "near_hundred(93) → True\n",
    "\n",
    "near_hundred(90) → True\n",
    "\n",
    "near_hundred(89) → False"
   ]
  },
  {
   "cell_type": "code",
   "execution_count": 9,
   "metadata": {},
   "outputs": [],
   "source": [
    "# near_hundred\n",
    "\n",
    "def near_hundred(n):\n",
    "    return (abs(n-100)<=10) or (abs(n-200)<=10)"
   ]
  },
  {
   "cell_type": "markdown",
   "metadata": {},
   "source": [
    "Q8: Pos_neg\n",
    "    \n",
    "Given 2 int values, return True if one is negative and one is positive. Except if the parameter \"negative\" is True, then return True only if both are negative.\n",
    "\n",
    "pos_neg(1, -1, False) → True\n",
    "\n",
    "pos_neg(-1, 1, False) → True\n",
    "\n",
    "pos_neg(-4, -5, True) → True"
   ]
  },
  {
   "cell_type": "code",
   "execution_count": 10,
   "metadata": {},
   "outputs": [],
   "source": [
    "# pos_neg\n",
    "\n",
    "def pos_neg(a, b, negative):\n",
    "    if negative:\n",
    "        return (a<0 and b<0)\n",
    "    else:\n",
    "        return (a<0 and b>0) or (a>0 and b<0) "
   ]
  },
  {
   "cell_type": "markdown",
   "metadata": {},
   "source": [
    "Q9: Not_string\n",
    "    \n",
    "Given a string, return a new string where \"not \" has been added to the front. However, if the string already begins with \"not\", return the string unchanged.\n",
    "\n",
    "not_string('candy') → 'not candy'\n",
    "\n",
    "not_string('x') → 'not x'\n",
    "\n",
    "not_string('not bad') → 'not bad'"
   ]
  },
  {
   "cell_type": "code",
   "execution_count": 11,
   "metadata": {},
   "outputs": [],
   "source": [
    "# not_string\n",
    "\n",
    "def not_string(str):\n",
    "    if str[:3] == 'not':\n",
    "        return str\n",
    "    else:\n",
    "        return 'not '+str"
   ]
  },
  {
   "cell_type": "markdown",
   "metadata": {},
   "source": [
    "Q10: Missing_char\n",
    "    \n",
    "Given a non-empty string and an int n, return a new string where the char at index n has been removed. The value of n will be a valid index of a char in the original string (i.e. n will be in the range 0..len(str)-1 inclusive).\n",
    "\n",
    "missing_char('kitten', 1) → 'ktten'\n",
    "\n",
    "missing_char('kitten', 0) → 'itten'\n",
    "\n",
    "missing_char('kitten', 4) → 'kittn'"
   ]
  },
  {
   "cell_type": "code",
   "execution_count": 12,
   "metadata": {},
   "outputs": [],
   "source": [
    "# missing_char\n",
    "\n",
    "def missing_char(str, n):\n",
    "    return str[:n]+str[n+1:]"
   ]
  },
  {
   "cell_type": "markdown",
   "metadata": {},
   "source": [
    "Q11: Front_back\n",
    "    \n",
    "Given a string, return a new string where the first and last chars have been exchanged.\n",
    "\n",
    "front_back('code') → 'eodc'\n",
    "\n",
    "front_back('a') → 'a'\n",
    "\n",
    "front_back('ab') → 'ba'"
   ]
  },
  {
   "cell_type": "code",
   "execution_count": 13,
   "metadata": {},
   "outputs": [],
   "source": [
    "# front_back\n",
    "\n",
    "def front_back(str):\n",
    "    if len(str)<=1:\n",
    "        return str\n",
    "    return str[-1]+str[1:(len(str)-1)]+str[0]"
   ]
  },
  {
   "cell_type": "markdown",
   "metadata": {},
   "source": [
    "Q12: Front3\n",
    "    \n",
    "Given a string, we'll say that the front is the first 3 chars of the string. If the string length is less than 3, the front is whatever is there. Return a new string which is 3 copies of the front.\n",
    "\n",
    "front3('Java') → 'JavJavJav'\n",
    "\n",
    "front3('Chocolate') → 'ChoChoCho'\n",
    "\n",
    "front3('abc') → 'abcabcabc'"
   ]
  },
  {
   "cell_type": "code",
   "execution_count": null,
   "metadata": {},
   "outputs": [],
   "source": [
    "# front3\n",
    "\n",
    "def front3(str):\n",
    "    return str[:3]*3"
   ]
  }
 ],
 "metadata": {
  "kernelspec": {
   "display_name": "Python 3",
   "language": "python",
   "name": "python3"
  },
  "language_info": {
   "codemirror_mode": {
    "name": "ipython",
    "version": 3
   },
   "file_extension": ".py",
   "mimetype": "text/x-python",
   "name": "python",
   "nbconvert_exporter": "python",
   "pygments_lexer": "ipython3",
   "version": "3.7.6"
  }
 },
 "nbformat": 4,
 "nbformat_minor": 4
}
