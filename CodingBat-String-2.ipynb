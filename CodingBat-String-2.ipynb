{
 "cells": [
  {
   "cell_type": "markdown",
   "metadata": {},
   "source": [
    "# CodingBat-String-2 Python"
   ]
  },
  {
   "cell_type": "markdown",
   "metadata": {},
   "source": [
    "Medium python string problems -- 1 loop.. Use + to combine strings, len(str) is the number of chars in a String, str[i:j] extracts the substring starting at index i and running up to but not including index j."
   ]
  },
  {
   "cell_type": "markdown",
   "metadata": {},
   "source": [
    "Q1 > double_char\n",
    "\n",
    "Given a string, return a string where for every char in the original, there are two chars.\n",
    "\n",
    "double_char('The') → 'TThhee'\n",
    "\n",
    "double_char('AAbb') → 'AAAAbbbb'\n",
    "\n",
    "double_char('Hi-There') → 'HHii--TThheerree'"
   ]
  },
  {
   "cell_type": "code",
   "execution_count": null,
   "metadata": {},
   "outputs": [],
   "source": [
    "# double_char\n",
    "\n",
    "def double_char(str):\n",
    "    mystr = ''\n",
    "    for letter in str:\n",
    "        mystr=mystr+letter*2\n",
    "    return mystr\n"
   ]
  },
  {
   "cell_type": "markdown",
   "metadata": {},
   "source": [
    "Q2 > count_hi\n",
    "\n",
    "Return the number of times that the string \"hi\" appears anywhere in the given string.\n",
    "\n",
    "count_hi('abc hi ho') → 1\n",
    "\n",
    "count_hi('ABChi hi') → 2\n",
    "\n",
    "count_hi('hihi') → 2"
   ]
  },
  {
   "cell_type": "code",
   "execution_count": 1,
   "metadata": {},
   "outputs": [],
   "source": [
    "# count_hi\n",
    "\n",
    "def count_hi(str):\n",
    "    count = 0\n",
    "    for i in range(len(str)-1):\n",
    "        if [str[i],str[i+1]] == ['h','i']:\n",
    "            count +=1\n",
    "    return count"
   ]
  },
  {
   "cell_type": "markdown",
   "metadata": {},
   "source": [
    "Q3 > cat_dog\n",
    "\n",
    "Return True if the string \"cat\" and \"dog\" appear the same number of times in the given string.\n",
    "\n",
    "cat_dog('catdog') → True\n",
    "\n",
    "cat_dog('catcat') → False\n",
    "\n",
    "cat_dog('1cat1cadodog') → True"
   ]
  },
  {
   "cell_type": "code",
   "execution_count": 2,
   "metadata": {},
   "outputs": [],
   "source": [
    "# cat_dog\n",
    "\n",
    "def cat_dog(str):\n",
    "    cat_count = 0\n",
    "    dog_count = 0\n",
    "    str=str.lower()\n",
    "    for i in range(len(str)-2):\n",
    "        if [str[i],str[i+1],str[i+2]] == ['c','a','t']:\n",
    "            cat_count +=1\n",
    "        elif [str[i],str[i+1],str[i+2]] == ['d','o','g']:\n",
    "            dog_count +=1\n",
    "    return cat_count == dog_count"
   ]
  },
  {
   "cell_type": "markdown",
   "metadata": {},
   "source": [
    "Q4 > count_code\n",
    "\n",
    "Return the number of times that the string \"code\" appears anywhere in the given string, except we'll accept any letter for the 'd', so \"cope\" and \"cooe\" count.\n",
    "\n",
    "count_code('aaacodebbb') → 1\n",
    "\n",
    "count_code('codexxcode') → 2\n",
    "\n",
    "count_code('cozexxcope') → 2"
   ]
  },
  {
   "cell_type": "code",
   "execution_count": 5,
   "metadata": {},
   "outputs": [],
   "source": [
    "#count_code\n",
    "\n",
    "def count_code(str):\n",
    "    str = str.lower()\n",
    "    count = 0\n",
    "    for i in range(0, len(str)-3):\n",
    "        if str[i:i+2] == 'co' and str[i+3]=='e':\n",
    "            count =+1\n",
    "      \n",
    "    return count"
   ]
  },
  {
   "cell_type": "markdown",
   "metadata": {},
   "source": [
    "Q5 > end_other\n",
    "\n",
    "Given two strings, return True if either of the strings appears at the very end of the other string, ignoring upper/lower case differences (in other words, the computation should not be \"case sensitive\"). Note: s.lower() returns the lowercase version of a string.\n",
    "\n",
    "end_other('Hiabc', 'abc') → True\n",
    "\n",
    "end_other('AbC', 'HiaBc') → True\n",
    "\n",
    "end_other('abc', 'abXabc') → True"
   ]
  },
  {
   "cell_type": "code",
   "execution_count": null,
   "metadata": {},
   "outputs": [],
   "source": [
    "# end_other\n",
    "\n",
    "def end_other(a, b):\n",
    "    a = a.lower()\n",
    "    b = b.lower()\n",
    "    #return (b.endswith(a) or a.endswith(b))\n",
    "    return a[-(len(b)):] == b or a == b[-(len(a)):] "
   ]
  },
  {
   "cell_type": "markdown",
   "metadata": {},
   "source": [
    "Q6 > xyz_there\n",
    "\n",
    "Return True if the given string contains an appearance of \"xyz\" where the xyz is not directly preceeded by a period (.). So \"xxyz\" counts but \"x.xyz\" does not.\n",
    "\n",
    "xyz_there('abcxyz') → True\n",
    "\n",
    "xyz_there('abc.xyz') → False\n",
    "\n",
    "xyz_there('xyz.abc') → True"
   ]
  },
  {
   "cell_type": "code",
   "execution_count": 11,
   "metadata": {},
   "outputs": [],
   "source": [
    "# xyz_there\n",
    "\n",
    "def xyz_there(str):\n",
    "    for i in range(len(str)):\n",
    "        if str[i] != '.' and str[i+1:i+4] == 'xyz':\n",
    "            return True\n",
    "    if str[0:3] == 'xyz':\n",
    "        return True\n",
    "    return False"
   ]
  },
  {
   "cell_type": "markdown",
   "metadata": {},
   "source": [
    "thank you\n",
    "https://codingbat.com/python"
   ]
  },
  {
   "cell_type": "code",
   "execution_count": null,
   "metadata": {},
   "outputs": [],
   "source": []
  }
 ],
 "metadata": {
  "kernelspec": {
   "display_name": "Python 3",
   "language": "python",
   "name": "python3"
  },
  "language_info": {
   "codemirror_mode": {
    "name": "ipython",
    "version": 3
   },
   "file_extension": ".py",
   "mimetype": "text/x-python",
   "name": "python",
   "nbconvert_exporter": "python",
   "pygments_lexer": "ipython3",
   "version": "3.7.6"
  }
 },
 "nbformat": 4,
 "nbformat_minor": 4
}
