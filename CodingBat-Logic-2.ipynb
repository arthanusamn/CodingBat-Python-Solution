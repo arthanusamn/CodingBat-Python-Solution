{
 "cells": [
  {
   "cell_type": "markdown",
   "metadata": {},
   "source": [
    "# CodingBat Logic-2 Python"
   ]
  },
  {
   "cell_type": "markdown",
   "metadata": {},
   "source": [
    "Medium boolean logic puzzles -- if else and or not"
   ]
  },
  {
   "cell_type": "markdown",
   "metadata": {},
   "source": [
    "Q1 > make_bricks\n",
    "\n",
    "We want to make a row of bricks that is goal inches long. We have a number of small bricks (1 inch each) and big bricks (5 inches each). Return True if it is possible to make the goal by choosing from the given bricks. This is a little harder than it looks and can be done without any loops. See also: Introduction to MakeBricks\n",
    "\n",
    "make_bricks(3, 1, 8) → True\n",
    "\n",
    "make_bricks(3, 1, 9) → False\n",
    "\n",
    "make_bricks(3, 2, 10) → True"
   ]
  },
  {
   "cell_type": "code",
   "execution_count": 1,
   "metadata": {},
   "outputs": [],
   "source": [
    "# make_bricks\n",
    "\n",
    "def make_bricks(small, big, goal):\n",
    "    big_needed = min(big, goal // 5)\n",
    "    return goal - (big_needed * 5) <= small"
   ]
  },
  {
   "cell_type": "markdown",
   "metadata": {},
   "source": [
    "Q2 > lone_sum\n",
    "\n",
    "Given 3 int values, a b c, return their sum. However, if one of the values is the same as another of the values, it does not count towards the sum.\n",
    "\n",
    "lone_sum(1, 2, 3) → 6\n",
    "\n",
    "lone_sum(3, 2, 3) → 2\n",
    "\n",
    "lone_sum(3, 3, 3) → 0"
   ]
  },
  {
   "cell_type": "code",
   "execution_count": 2,
   "metadata": {},
   "outputs": [],
   "source": [
    "# long_sum solution one\n",
    "\n",
    "def lone_sum(a, b, c):\n",
    "    if a !=b and b!=c and a!=c:\n",
    "        return a+b+c\n",
    "    elif a == b and b == c and c == a:\n",
    "        return 0\n",
    "    elif a == b:\n",
    "        return c\n",
    "    elif b == c:\n",
    "        return a\n",
    "    elif a ==c:\n",
    "        return b"
   ]
  },
  {
   "cell_type": "code",
   "execution_count": 3,
   "metadata": {},
   "outputs": [],
   "source": [
    "# long_sum solution two\n",
    "\n",
    "def lone_sum(a, b, c):\n",
    "    nums = (a, b, c)\n",
    "    return sum(n for n in nums if nums.count(n) == 1)"
   ]
  },
  {
   "cell_type": "markdown",
   "metadata": {},
   "source": [
    "Q3 > lucky_sum\n",
    "\n",
    "Given 3 int values, a b c, return their sum. However, if one of the values is 13 then it does not count towards the sum and values to its right do not count. So for example, if b is 13, then both b and c do not count.\n",
    "\n",
    "lucky_sum(1, 2, 3) → 6\n",
    "\n",
    "lucky_sum(1, 2, 13) → 3\n",
    "\n",
    "lucky_sum(1, 13, 3) → 1"
   ]
  },
  {
   "cell_type": "code",
   "execution_count": 4,
   "metadata": {},
   "outputs": [],
   "source": [
    "# lucky_sum\n",
    "\n",
    "def lucky_sum(a, b, c):\n",
    "    total = 0\n",
    "    \n",
    "    for n in (a, b, c):\n",
    "        if n != 13:\n",
    "            total += n\n",
    "        else:\n",
    "            break\n",
    "\n",
    "    return total"
   ]
  },
  {
   "cell_type": "markdown",
   "metadata": {},
   "source": [
    "Q4 > no_teen_sum\n",
    "\n",
    "Given 3 int values, a b c, return their sum. However, if any of the values is a teen -- in the range 13..19 inclusive -- then that value counts as 0, except 15 and 16 do not count as a teens. Write a separate helper \"def fix_teen(n):\"that takes in an int value and returns that value fixed for the teen rule. In this way, you avoid repeating the teen code 3 times (i.e. \"decomposition\"). Define the helper below and at the same indent level as the main no_teen_sum().\n",
    "\n",
    "no_teen_sum(1, 2, 3) → 6\n",
    "\n",
    "no_teen_sum(2, 13, 1) → 3\n",
    "\n",
    "no_teen_sum(2, 1, 14) → 3"
   ]
  },
  {
   "cell_type": "code",
   "execution_count": 1,
   "metadata": {},
   "outputs": [],
   "source": [
    "# no_teen_sum\n",
    "\n",
    "def no_teen_sum(a, b, c):\n",
    "    return fix_teen(a) + fix_teen(b) + fix_teen(c)\n",
    "  \n",
    "def fix_teen(n):\n",
    "  #if 13 <= n <= 14 or 17 <= n <= 19:\n",
    "    if n in [13, 14, 17, 18, 19]:\n",
    "        return 0\n",
    "    return n"
   ]
  },
  {
   "cell_type": "markdown",
   "metadata": {},
   "source": [
    "Q4>round_sum\n",
    "\n",
    "For this problem, we'll round an int value up to the next multiple of 10 if its rightmost digit is 5 or more, so 15 rounds up to 20. Alternately, round down to the previous multiple of 10 if its rightmost digit is less than 5, so 12 rounds down to 10. Given 3 ints, a b c, return the sum of their rounded values. To avoid code repetition, write a separate helper \"def round10(num):\" and call it 3 times. Write the helper entirely below and at the same indent level as round_sum().\n",
    "\n",
    "round_sum(16, 17, 18) → 60\n",
    "\n",
    "round_sum(12, 13, 14) → 30\n",
    "\n",
    "round_sum(6, 4, 4) → 10"
   ]
  },
  {
   "cell_type": "code",
   "execution_count": 2,
   "metadata": {},
   "outputs": [],
   "source": [
    "# round_sum\n",
    "\n",
    "def round_sum(a, b, c):\n",
    "    return round10(a) + round10(b) + round10(c)\n",
    " \n",
    "def round10(n):\n",
    "    if n % 10 >= 5:\n",
    "        return n + 10 - (n % 10)\n",
    "    return n - (n % 10) "
   ]
  },
  {
   "cell_type": "markdown",
   "metadata": {},
   "source": [
    "Q5>close_far\n",
    "\n",
    "Given three ints, a b c, return True if one of b or c is \"close\" (differing from a by at most 1), while the other is \"far\", differing from both other values by 2 or more. Note: abs(num) computes the absolute value of a number.\n",
    "\n",
    "\n",
    "close_far(1, 2, 10) → True\n",
    "\n",
    "close_far(1, 2, 3) → False\n",
    "\n",
    "close_far(4, 1, 3) → True"
   ]
  },
  {
   "cell_type": "code",
   "execution_count": 4,
   "metadata": {},
   "outputs": [],
   "source": [
    "# close_far\n",
    "\n",
    "def close_far(a, b, c):\n",
    "    cond1 = abs(a-b) <= 1 and abs(b-c) >=2 and abs(a-c) >= 2\n",
    "    cond2 = abs(a-c) <= 1 and abs(a-b) >=2 and abs(c-b) >= 2\n",
    "    return cond1 or cond2"
   ]
  },
  {
   "cell_type": "markdown",
   "metadata": {},
   "source": [
    "Q6>make_chocolate\n",
    "\n",
    "We want make a package of goal kilos of chocolate. We have small bars (1 kilo each) and big bars (5 kilos each). Return the number of small bars to use, assuming we always use big bars before small bars. Return -1 if it can't be done.\n",
    "\n",
    "\n",
    "make_chocolate(4, 1, 9) → 4\n",
    "\n",
    "make_chocolate(4, 1, 10) → -1\n",
    "\n",
    "make_chocolate(4, 1, 7) → 2"
   ]
  },
  {
   "cell_type": "code",
   "execution_count": 5,
   "metadata": {},
   "outputs": [],
   "source": [
    "# make_chocolate\n",
    "\n",
    "def make_chocolate(small, big, goal):\n",
    "    maxBig = goal / 5\n",
    "   \n",
    "    if big >= maxBig:\n",
    "        if small >= (goal - maxBig * 5):\n",
    "            return goal - maxBig * 5\n",
    "    if big < maxBig:\n",
    "        if small >= (goal - big * 5):\n",
    "            return goal - big * 5\n",
    "    return -1"
   ]
  }
 ],
 "metadata": {
  "kernelspec": {
   "display_name": "Python 3",
   "language": "python",
   "name": "python3"
  },
  "language_info": {
   "codemirror_mode": {
    "name": "ipython",
    "version": 3
   },
   "file_extension": ".py",
   "mimetype": "text/x-python",
   "name": "python",
   "nbconvert_exporter": "python",
   "pygments_lexer": "ipython3",
   "version": "3.7.6"
  }
 },
 "nbformat": 4,
 "nbformat_minor": 4
}
