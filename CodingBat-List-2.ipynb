{
 "cells": [
  {
   "cell_type": "markdown",
   "metadata": {},
   "source": [
    "# CodingBat-List-2 Python"
   ]
  },
  {
   "cell_type": "markdown",
   "metadata": {},
   "source": [
    "Medium python list problems -- 1 loop.. Use a[0], a[1], ... to access elements in a list, len(a) is the length."
   ]
  },
  {
   "cell_type": "markdown",
   "metadata": {},
   "source": [
    "Q1 > count_evens\n",
    "\n",
    "Return the number of even ints in the given array. Note: the % \"mod\" operator computes the remainder, e.g. 5 % 2 is 1.\n",
    "\n",
    "count_evens([2, 1, 2, 3, 4]) → 3\n",
    "\n",
    "count_evens([2, 2, 0]) → 3\n",
    "\n",
    "count_evens([1, 3, 5]) → 0"
   ]
  },
  {
   "cell_type": "code",
   "execution_count": 1,
   "metadata": {},
   "outputs": [],
   "source": [
    "# count_evens\n",
    "\n",
    "def count_evens(nums):\n",
    "    count = 0\n",
    "    for num in nums:\n",
    "        if num%2 ==0:\n",
    "            count+=1\n",
    "    return count"
   ]
  },
  {
   "cell_type": "markdown",
   "metadata": {},
   "source": [
    "Q2 > big_diff\n",
    "\n",
    "Given an array length 1 or more of ints, return the difference between the largest and smallest values in the array. Note: the built-in min(v1, v2) and max(v1, v2) functions return the smaller or larger of two values.\n",
    "\n",
    "big_diff([10, 3, 5, 6]) → 7\n",
    "\n",
    "big_diff([7, 2, 10, 9]) → 8\n",
    "\n",
    "big_diff([2, 10, 7, 2]) → 8"
   ]
  },
  {
   "cell_type": "code",
   "execution_count": 2,
   "metadata": {},
   "outputs": [],
   "source": [
    "# bid_diff\n",
    "\n",
    "def big_diff(nums):\n",
    "    return max(nums) - min(nums)"
   ]
  },
  {
   "cell_type": "markdown",
   "metadata": {},
   "source": [
    "Q3 > centered_average\n",
    "\n",
    "Return the \"centered\" average of an array of ints, which we'll say is the mean average of the values, except ignoring the largest and smallest values in the array. If there are multiple copies of the smallest value, ignore just one copy, and likewise for the largest value. Use int division to produce the final average. You may assume that the array is length 3 or more.\n",
    "\n",
    "centered_average([1, 2, 3, 4, 100]) → 3\n",
    "\n",
    "centered_average([1, 1, 5, 5, 10, 8, 7]) → 5\n",
    "\n",
    "centered_average([-10, -4, -2, -4, -2, 0]) → -3"
   ]
  },
  {
   "cell_type": "code",
   "execution_count": 7,
   "metadata": {},
   "outputs": [],
   "source": [
    "# centered_average\n",
    "\n",
    "def centered_average(nums):\n",
    "    sum = 0\n",
    "    for element in nums:\n",
    "        sum += element\n",
    "    return (sum - min(nums) - max(nums)) / (len(nums)-2) "
   ]
  },
  {
   "cell_type": "markdown",
   "metadata": {},
   "source": [
    "Q4 > sum13\n",
    "\n",
    "Return the sum of the numbers in the array, returning 0 for an empty array. Except the number 13 is very unlucky, so it does not count and numbers that come immediately after a 13 also do not count.\n",
    "\n",
    "sum13([1, 2, 2, 1]) → 6\n",
    "\n",
    "sum13([1, 1]) → 2\n",
    "\n",
    "sum13([1, 2, 2, 1, 13]) → 6"
   ]
  },
  {
   "cell_type": "code",
   "execution_count": 9,
   "metadata": {},
   "outputs": [],
   "source": [
    "# sum13\n",
    "\n",
    "def sum13(nums):\n",
    "    if len(nums) == 0:\n",
    "        return 0\n",
    "    elif len(nums) >=1:\n",
    "        for i in range(len(nums)):\n",
    "            if nums[i] == 13:\n",
    "                nums[i]=0\n",
    "                if i+1<len(nums):\n",
    "                    nums[i+1]=0\n",
    "        return sum(nums)"
   ]
  },
  {
   "cell_type": "markdown",
   "metadata": {},
   "source": [
    "Q5 > sum67\n",
    "\n",
    "Return the sum of the numbers in the array, except ignore sections of numbers starting with a 6 and extending to the next 7 (every 6 will be followed by at least one 7). Return 0 for no numbers.\n",
    "\n",
    "sum67([1, 2, 2]) → 5\n",
    "\n",
    "sum67([1, 2, 2, 6, 99, 99, 7]) → 5\n",
    "\n",
    "sum67([1, 1, 6, 7, 2]) → 4"
   ]
  },
  {
   "cell_type": "code",
   "execution_count": 11,
   "metadata": {},
   "outputs": [],
   "source": [
    "# sum67\n",
    "\n",
    "def sum67(nums):\n",
    "    for i in range(0, len(nums)):\n",
    "        if nums[i] == 6:\n",
    "            nums[i] = 0\n",
    "            for j in range(i+1, len(nums)):\n",
    "                temp = nums[j]\n",
    "                nums[j] = 0\n",
    "                if temp == 7:\n",
    "                    i = j + 1\n",
    "                    break\n",
    "    return sum(nums)"
   ]
  },
  {
   "cell_type": "markdown",
   "metadata": {},
   "source": [
    "Q6 > has22\n",
    "\n",
    "Given an array of ints, return True if the array contains a 2 next to a 2 somewhere.\n",
    "\n",
    "has22([1, 2, 2]) → True\n",
    "\n",
    "has22([1, 2, 1, 2]) → False\n",
    "\n",
    "has22([2, 1, 2]) → False"
   ]
  },
  {
   "cell_type": "code",
   "execution_count": 12,
   "metadata": {},
   "outputs": [],
   "source": [
    "# has22\n",
    "\n",
    "def has22(nums):\n",
    "    for i in range(0, len(nums)-1):\n",
    "    #if nums[i] == 2 and nums[i+1] == 2:\n",
    "        if nums[i:i+2] == [2,2]:\n",
    "            return True    \n",
    "    return False"
   ]
  },
  {
   "cell_type": "markdown",
   "metadata": {},
   "source": [
    "thank you!\n",
    "\n",
    "https://codingbat.com/prob/p119308"
   ]
  }
 ],
 "metadata": {
  "kernelspec": {
   "display_name": "Python 3",
   "language": "python",
   "name": "python3"
  },
  "language_info": {
   "codemirror_mode": {
    "name": "ipython",
    "version": 3
   },
   "file_extension": ".py",
   "mimetype": "text/x-python",
   "name": "python",
   "nbconvert_exporter": "python",
   "pygments_lexer": "ipython3",
   "version": "3.7.6"
  }
 },
 "nbformat": 4,
 "nbformat_minor": 4
}
